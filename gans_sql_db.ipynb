{
 "cells": [
  {
   "cell_type": "code",
   "execution_count": 1,
   "id": "90fe938a-883a-40b5-add4-0e3efa539778",
   "metadata": {},
   "outputs": [],
   "source": [
    "import pandas as pd\n",
    "import pymysql\n",
    "import sqlalchemy"
   ]
  },
  {
   "cell_type": "code",
   "execution_count": 2,
   "id": "d4a21de3-a357-47de-bff8-9aeac6454e32",
   "metadata": {},
   "outputs": [],
   "source": [
    "# import .csv data for the required tables & remove Unnamed index\n",
    "\n",
    "city_data = pd.read_csv(\"city_data.csv\")\n",
    "city_data.drop(columns = [\"Unnamed: 0\"], inplace = True)\n",
    "weather_data = pd.read_csv(\"weather_data.csv\")\n",
    "weather_data.drop(columns = [\"Unnamed: 0\"], inplace = True)\n",
    "airport_data = pd.read_csv(\"airport_data.csv\")\n",
    "airport_data.drop(columns = [\"Unnamed: 0\"], inplace = True)\n",
    "arrivals_data = pd.read_csv(\"arrivals_data.csv\") \n",
    "arrivals_data.drop(columns = [\"Unnamed: 0\"], inplace = True)"
   ]
  },
  {
   "cell_type": "markdown",
   "id": "79a6594e-18e1-4562-94bf-6889bd439ebc",
   "metadata": {},
   "source": [
    "you can check each table once more before you transfer the data to MySQL"
   ]
  },
  {
   "cell_type": "code",
   "execution_count": 3,
   "id": "d2198fe9-fe2b-4c03-a024-2adeb6c49df4",
   "metadata": {},
   "outputs": [],
   "source": [
    "#arrivals_data.head()"
   ]
  },
  {
   "cell_type": "code",
   "execution_count": 4,
   "id": "bb2fd3f1-423a-41e0-8195-98a6d0d1c8ae",
   "metadata": {},
   "outputs": [],
   "source": [
    "#airport_data.head()"
   ]
  },
  {
   "cell_type": "code",
   "execution_count": 5,
   "id": "39342f0c-1537-4262-a86b-a9a448f11ebf",
   "metadata": {},
   "outputs": [],
   "source": [
    "#weather_data.head()"
   ]
  },
  {
   "cell_type": "code",
   "execution_count": 6,
   "id": "2687d258-2ced-42b2-a9e3-e234cb5a1903",
   "metadata": {},
   "outputs": [],
   "source": [
    "#city_data.head()"
   ]
  },
  {
   "cell_type": "code",
   "execution_count": 16,
   "id": "669148aa-be09-4085-9a74-75b6b15bfe7b",
   "metadata": {},
   "outputs": [],
   "source": [
    "# complete the informaation for the sql schema \n",
    "\n",
    "schema = 'gans'\n",
    "host = '127.0.0.1'\n",
    "user = 'root'\n",
    "password = 'Your MySQL Password'\n",
    "port = 3306\n",
    "con = f\"mysql+pymysql://{user}:{password}@{host}:{port}/{schema}\"\n"
   ]
  },
  {
   "cell_type": "markdown",
   "id": "62fe2a92-5e33-4295-b154-546003bb0317",
   "metadata": {},
   "source": [
    "write the codes to append the sql tables with the required information from each dataframe"
   ]
  },
  {
   "cell_type": "code",
   "execution_count": 10,
   "id": "b17106a9-fcba-4b7f-873b-7c2d947b304c",
   "metadata": {},
   "outputs": [],
   "source": [
    "weather_data.to_sql(\"weather_conditions\", if_exists = \"append\", con = con, index = False)"
   ]
  },
  {
   "cell_type": "code",
   "execution_count": 7,
   "id": "5f763676-9fac-4940-8e39-d8ba5e463499",
   "metadata": {},
   "outputs": [],
   "source": [
    "city_data.to_sql(\"cities\", if_exists = \"append\", con = con, index = False)"
   ]
  },
  {
   "cell_type": "code",
   "execution_count": 8,
   "id": "70a1a88e-313c-4aa0-ba41-6ededbcc1215",
   "metadata": {},
   "outputs": [],
   "source": [
    "airport_data.to_sql(\"airports\", if_exists = \"append\", con = con, index = False)"
   ]
  },
  {
   "cell_type": "code",
   "execution_count": 9,
   "id": "fcab897a-8ad3-42dc-8f32-e8c03b065dbb",
   "metadata": {},
   "outputs": [],
   "source": [
    "arrivals_data.to_sql(\"flights\", if_exists = \"append\", con = con, index = False)"
   ]
  }
 ],
 "metadata": {
  "kernelspec": {
   "display_name": "Python 3 (ipykernel)",
   "language": "python",
   "name": "python3"
  },
  "language_info": {
   "codemirror_mode": {
    "name": "ipython",
    "version": 3
   },
   "file_extension": ".py",
   "mimetype": "text/x-python",
   "name": "python",
   "nbconvert_exporter": "python",
   "pygments_lexer": "ipython3",
   "version": "3.9.7"
  }
 },
 "nbformat": 4,
 "nbformat_minor": 5
}
