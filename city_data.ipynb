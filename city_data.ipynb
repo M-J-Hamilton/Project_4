{
 "cells": [
  {
   "cell_type": "code",
   "execution_count": 1,
   "id": "de38b944-1c42-4378-ad4e-7196e5becc3d",
   "metadata": {},
   "outputs": [],
   "source": [
    "import pandas as pd\n",
    "import requests\n",
    "import json\n",
    "from datetime import datetime, date\n",
    "import time"
   ]
  },
  {
   "cell_type": "code",
   "execution_count": 12,
   "id": "5e0d3b4d-2115-41b0-b622-076e08837e84",
   "metadata": {},
   "outputs": [],
   "source": [
    "cities = [    # 10 German cities by population\n",
    "         \"Q64\",    # Berlin: federal state, capital and largest city of Germany\n",
    "         \"Q1055\",  # Hamburg: city and federal state in the North of Germany\n",
    "         \"Q1726\",  # München: capital and most populous city of Bavaria, Germany\n",
    "         \"Q365\",   # Köln: city in North Rhine-Westphalia, Germany\n",
    "         \"Q1794\",  # Frankfurt am Main: city in Hesse, Germany\n",
    "         \"Q1022\",  # Stuttgart: capital city of German federated state Baden-Württemberg\n",
    "         \"Q1718\",  # Düsseldorf: capital city of the German federated state of North Rhine-Westphalia\n",
    "         \"Q1295\",  # Dortmund: city in North Rhine-Westphalia, Germany\n",
    "         \"Q2066\",  # Essen: city in North Rhine-Westphalia, Germany\n",
    "         \"Q2079\",  # Leipzig: most populous city in the German state of Saxony\n",
    "                  \n",
    "              # 5 Austrian cities by population\n",
    "         \"Q1741\",  # Wien: capital of and state in Austria\n",
    "         \"Q13298\", # Graz: capital of Styria, Austria\n",
    "         \"Q41329\", # Linz: capital city of Upper Austria, Austria\n",
    "         \"Q34713\", # Salzburg: capital city of the federal state of Salzburg in Austria\n",
    "         \"Q1735\"   # Innsbruck: capital of the state of Tyrol, Austria\n",
    "         ]"
   ]
  },
  {
   "cell_type": "code",
   "execution_count": 17,
   "id": "cb70879d-bbc8-4c39-beed-fec4eab8087c",
   "metadata": {},
   "outputs": [],
   "source": [
    "import requests\n",
    "\n",
    "url = \"https://wft-geo-db.p.rapidapi.com/v1/geo/cities/Q64\"\n",
    "\n",
    "headers = {\n",
    "\t\"X-RapidAPI-Key\": \"API key goes here#\",\n",
    "\t\"X-RapidAPI-Host\": \"wft-geo-db.p.rapidapi.com\"\n",
    "}\n",
    "\n",
    "response = requests.request(\"GET\", url, headers=headers)\n",
    "\n",
    "#print(response.text)"
   ]
  },
  {
   "cell_type": "code",
   "execution_count": 15,
   "id": "3a78df8f-cc66-4709-bcf8-4f10e6a53d26",
   "metadata": {},
   "outputs": [],
   "source": [
    "# loop through the list of cities, makes API calls and concatenate all city data into one dataframe\n",
    "\n",
    "city_list =[]\n",
    "for c in cities:\n",
    "    url = \"https://wft-geo-db.p.rapidapi.com/v1/geo/cities/{c}\"\n",
    "    headers = {\n",
    "        \"X-RapidAPI-Key\": \"API key goes here#\",\n",
    "        \"X-RapidAPI-Host\": \"wft-geo-db.p.rapidapi.com\"\n",
    "    }\n",
    "    response = requests.request(\"GET\", url, headers=headers)\n",
    "    #time.sleep(2)\n",
    "    city_df = pd.json_normalize(response.json())\n",
    "    city_list.append(city_df)\n",
    "    \n",
    "cities_df = pd.concat(city_list, ignore_index=True)\n",
    "cities_df = cities_df[[\"data.id\", \"data.wikiDataId\", \"data.city\", \"data.country\", \"data.elevationMeters\", \n",
    "                       \"data.latitude\", \"data.longitude\", \"data.population\"]]\n",
    "\n",
    "#cities_df"
   ]
  },
  {
   "cell_type": "code",
   "execution_count": null,
   "id": "edaaaa15-4be3-41ce-a8b9-511b07ce9dcb",
   "metadata": {},
   "outputs": [],
   "source": [
    "# rewrite the above as a function so it can be implemented elsewhere\n",
    "\n",
    "def get_city_data(cities):\n",
    "    city_list = []\n",
    "    url = \"https://wft-geo-db.p.rapidapi.com/v1/geo/cities/Q60\"\n",
    "    headers = {\n",
    "        \"X-RapidAPI-Key\": \" #API key goes here# \",\n",
    "        \"X-RapidAPI-Host\": \"wft-geo-db.p.rapidapi.com\"\n",
    "    }\n",
    "    test = requests.request(\"GET\", url, headers = headers)\n",
    "    time.sleep(1)\n",
    "    if test.status_code >= 200 and test.status_code <= 299:\n",
    "        for city in cities:\n",
    "            url = f\"https://wft-geo-db.p.rapidapi.com/v1/geo/cities/{city}\"\n",
    "            headers = {\n",
    "                \"X-RapidAPI-Key\": \"#API key goes here# \",\n",
    "                \"X-RapidAPI-Host\": \"wft-geo-db.p.rapidapi.com\"\n",
    "            }\n",
    "            response = requests.request(\"GET\", url, headers = headers)\n",
    "            time.sleep(2)\n",
    "            city_df = pd.json_normalize(response.json())\n",
    "            city_list.append(city_df)\n",
    "    else:\n",
    "        return -1\n",
    "    cities_df = pd.concat(city_list, ignore_index = True)\n",
    "    return cities_df"
   ]
  },
  {
   "cell_type": "code",
   "execution_count": null,
   "id": "c90d88fc-7a50-47f5-922b-ddcc541b76fb",
   "metadata": {},
   "outputs": [],
   "source": [
    "# this returns the full set of columns from the API call\n",
    "\n",
    "city_data = get_city_data(cities)\n",
    "#city_data"
   ]
  },
  {
   "cell_type": "code",
   "execution_count": 36,
   "id": "5ac86fa1-5328-4701-9c8f-a528a39b4641",
   "metadata": {},
   "outputs": [],
   "source": [
    "# reset the dataframe to exclude unnecessary columns\n",
    "\n",
    "city_data = city_data[[\"data.wikiDataId\", \"data.city\", \"data.country\", \"data.countryCode\", \"data.region\", \n",
    "                       \"data.elevationMeters\", \"data.latitude\", \"data.longitude\", \"data.population\"]]"
   ]
  },
  {
   "cell_type": "code",
   "execution_count": 20,
   "id": "f244fab6-c7f9-43a7-be69-7103358762ce",
   "metadata": {},
   "outputs": [],
   "source": [
    "# rename columns with more intuitive names and get rid of dots to avoid problems in MySQL\n",
    "\n",
    "city_data.rename(columns = {\"data.wikiDataId\": \"city_id\",\n",
    "                            \"data.city\": \"city\" ,\n",
    "                            \"data.country\": \"country\",\n",
    "                            \"data.countryCode\": \"country_code\",\n",
    "                            \"data.region\": \"region\",\n",
    "                            \"data.elevationMeters\": \"elevation\",\n",
    "                            \"data.latitude\": \"city_latitude\",\n",
    "                            \"data.longitude\": \"city_longitude\",\n",
    "                            \"data.population\": \"population\"},\n",
    "                 inplace = True)\n",
    "city_data"
   ]
  },
  {
   "cell_type": "code",
   "execution_count": 39,
   "id": "c2f0f506-ac26-43fa-96d1-1d2f4e16116b",
   "metadata": {},
   "outputs": [
    {
     "data": {
      "text/plain": [
       "city_id            object\n",
       "city               object\n",
       "country            object\n",
       "country_code       object\n",
       "region             object\n",
       "elevation          object\n",
       "city_latitude     float64\n",
       "city_longitude    float64\n",
       "population          int64\n",
       "dtype: object"
      ]
     },
     "execution_count": 39,
     "metadata": {},
     "output_type": "execute_result"
    }
   ],
   "source": [
    "city_data.dtypes"
   ]
  },
  {
   "cell_type": "code",
   "execution_count": 41,
   "id": "8a7e9976-fa46-44c1-a535-90cd89141795",
   "metadata": {},
   "outputs": [],
   "source": [
    "city_data.to_csv(\"city_data.csv\")"
   ]
  }
 ],
 "metadata": {
  "kernelspec": {
   "display_name": "Python 3 (ipykernel)",
   "language": "python",
   "name": "python3"
  },
  "language_info": {
   "codemirror_mode": {
    "name": "ipython",
    "version": 3
   },
   "file_extension": ".py",
   "mimetype": "text/x-python",
   "name": "python",
   "nbconvert_exporter": "python",
   "pygments_lexer": "ipython3",
   "version": "3.9.7"
  }
 },
 "nbformat": 4,
 "nbformat_minor": 5
}
