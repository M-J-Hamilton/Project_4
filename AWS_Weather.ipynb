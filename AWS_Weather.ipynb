{
 "cells": [
  {
   "cell_type": "code",
   "execution_count": 2,
   "id": "65db4e54",
   "metadata": {},
   "outputs": [],
   "source": [
    "import pandas as pd\n",
    "import requests\n",
    "from datetime import datetime\n",
    "import pytz\n",
    "import os"
   ]
  },
  {
   "cell_type": "markdown",
   "id": "c0afea6b",
   "metadata": {
    "tags": []
   },
   "source": [
    "### __get and store weather for AWS lambda function__"
   ]
  },
  {
   "cell_type": "code",
   "execution_count": 18,
   "id": "0cb633ff-d6e4-4498-a625-be2f26fe4536",
   "metadata": {
    "tags": []
   },
   "outputs": [],
   "source": [
    "# connection to gans database in cloud (AWS)\n",
    "\n",
    "schema = 'gans'\n",
    "host = 'wbs-project4-db.cdf7pal02v3u.eu-central-1.rds.amazonaws.com'\n",
    "user = 'admin'\n",
    "password = 'Your RDS Instance password'\n",
    "port = 3306\n",
    "con = f\"mysql+pymysql://{user}:{password}@{host}:{port}/{schema}\""
   ]
  },
  {
   "cell_type": "code",
   "execution_count": 9,
   "id": "baff717a-ea98-459e-9482-9bf2d80c2ff0",
   "metadata": {},
   "outputs": [],
   "source": [
    "### CITY_DATA \n",
    "# extracting city_data from sql db - use to test output of function\n",
    "\n",
    "'''\n",
    "city_data = pd.read_sql_table(\n",
    "    'cities', con, index_col=None, coerce_float=True, parse_dates=None, columns=None, chunksize=None\n",
    "                             )  #pandas.read_sql_table(table_name, con, schema=None, index_col=None, coerce_float=True, parse_dates=None, columns=None, chunksize=None)\n",
    "city_data.rename(columns={'city_name':'city'},inplace=True)\n",
    "\n",
    "cities = city_data[\"city\"].to_list()\n",
    "cities\n",
    "'''"
   ]
  },
  {
   "cell_type": "code",
   "execution_count": 14,
   "id": "24bcc94c",
   "metadata": {},
   "outputs": [],
   "source": [
    "# create a function to capture the full process, (details on weather.ipynb)\n",
    "# this function can now be copied to the Lambda_handler function in AWS\n",
    "\n",
    "def get_weather_norm(cities):\n",
    "    ###\n",
    "    # to get a timestamp showing when the data was retieved \n",
    "    # Datetime uses the uses the current time of the system, - on local computers this is normally correct \n",
    "    # in the cloud, computers are not always in the same country, therefore the timezone module is required \n",
    "    # to ensure that the timestamp is local to user and not the computer\n",
    "    tz = pytz.timezone('Europe/Berlin')\n",
    "    now = datetime.now().astimezone(tz)\n",
    "    \n",
    "    # city_data is extracted from sql db as it's static data, also enables merge to get city id\n",
    "    city_data = pd.read_sql_table(\n",
    "        'cities', con=con, index_col=None, coerce_float=True, parse_dates=None, columns=None, chunksize=None)\n",
    "    city_data.rename(columns={'city_name':'city'},inplace=True)\n",
    "    cities = city_data[\"city\"].to_list()\n",
    "    \n",
    "    df_list = []\n",
    "    API_key = '80c5ac07e66f09d7ed9ab87d34d61b91'\n",
    "    url = (f\"http://api.openweathermap.org/data/2.5/forecast?q=Berlin&appid={API_key}&units=metric\") \n",
    "    test = requests.get(url)\n",
    "    if test.status_code >= 200 and test.status_code <= 299:\n",
    "        print(test.status_code)\n",
    "        for city in cities:  \n",
    "            url = (f\"http://api.openweathermap.org/data/2.5/forecast?q={city}&appid={API_key}&units=metric\") \n",
    "            response = requests.get(url)\n",
    "            json = response.json()\n",
    "            json_norm_df = pd.json_normalize(json['list'],\n",
    "                                             record_path=['weather'],\n",
    "                                             meta=['dt_txt',\n",
    "                                                   ['main', 'temp'],\n",
    "                                                   ['main', 'feels_like'],\n",
    "                                                   ['clouds', 'all'],\n",
    "                                                   ['rain', '3h'],\n",
    "                                                   ['snow', '3h'],\n",
    "                                                   ['wind', 'speed'],\n",
    "                                                   ['main', 'humidity'],], \n",
    "                                             errors='ignore')\n",
    "            json_norm_df['city'] = city\n",
    "            json_norm_df.drop(columns=['id', 'icon','description'], inplace=True)\n",
    "            json_norm_df.rename(columns={'main': 'outlook',                                        \n",
    "                                         'dt_txt': 'forecast_time',\n",
    "                                         'main.temp': 'temperature',\n",
    "                                         'main.feels_like': 'temp_feels_like',\n",
    "                                         'clouds.all': 'clouds',\n",
    "                                         'rain.3h': 'rain',\n",
    "                                         'snow.3h': 'snow',\n",
    "                                         'wind.speed': 'wind_speed',\n",
    "                                         'main.humidity': 'humidity',},\n",
    "                                inplace=True)\n",
    "            json_norm_df['information_retrieved_at'] = now.strftime(\"%d/%m/%Y %H:%M:%S\")\n",
    "            json_norm_df[['city', 'forecast_time', 'outlook',\n",
    "                          'temperature', 'temp_feels_like', 'clouds', 'rain', 'snow',\n",
    "                          'wind_speed', 'humidity','information_retrieved_at']]\n",
    "            df_list.append(json_norm_df)\n",
    "    else:\n",
    "        print(test.status_code)\n",
    "        return -1\n",
    "    weather_output = pd.concat(df_list, ignore_index=True)\n",
    "    \n",
    "    # obtain city_id for weather_conditions table in sql db from city_data\n",
    "    weather_output = weather_output.merge(city_data[[\"city_id\", \"city\"]], how = \"left\", on = \"city\")\n",
    "    \n",
    "    # set data types\n",
    "    weather_output = weather_output.astype({'temperature':float,'temp_feels_like':float,'clouds':float,'rain':float,'wind_speed':float,'snow':float,'humidity':float,})\n",
    "    weather_output[\"forecast_time\"] = pd.to_datetime(weather_output[\"forecast_time\"])\n",
    "    \n",
    "    \n",
    "    return weather_output # drop return when using in lambda function AWS"
   ]
  },
  {
   "cell_type": "code",
   "execution_count": 146,
   "id": "89462e23-c495-44e4-aee5-c0705616c017",
   "metadata": {},
   "outputs": [],
   "source": [
    "#get_weather_norm(['Cork', 'London'])"
   ]
  },
  {
   "cell_type": "code",
   "execution_count": null,
   "id": "2ca81d85-ad4e-450f-ba07-aebd7b109e81",
   "metadata": {},
   "outputs": [],
   "source": [
    "# test using the cities_list as the input - uncomment the city_data cell above  \n",
    "\n",
    "weather_data = get_weather_norm(cities) \n",
    "#weather_data"
   ]
  },
  {
   "cell_type": "code",
   "execution_count": null,
   "id": "d20a3b1c-8115-441e-8a7e-66be5764b579",
   "metadata": {},
   "outputs": [],
   "source": [
    "#weather_data.head()"
   ]
  },
  {
   "cell_type": "code",
   "execution_count": 17,
   "id": "3ffdabc7-cca4-4dbd-a471-c3ca6fa68309",
   "metadata": {},
   "outputs": [
    {
     "data": {
      "text/plain": [
       "outlook                             object\n",
       "forecast_time               datetime64[ns]\n",
       "temperature                        float64\n",
       "temp_feels_like                    float64\n",
       "clouds                             float64\n",
       "rain                               float64\n",
       "snow                               float64\n",
       "wind_speed                         float64\n",
       "humidity                           float64\n",
       "city                                object\n",
       "information_retrieved_at            object\n",
       "city_id                             object\n",
       "dtype: object"
      ]
     },
     "execution_count": 17,
     "metadata": {},
     "output_type": "execute_result"
    }
   ],
   "source": [
    "weather_data.dtypes"
   ]
  },
  {
   "cell_type": "code",
   "execution_count": 87,
   "id": "b8a63948-14af-4b8b-b9b4-7d806d6f7615",
   "metadata": {},
   "outputs": [],
   "source": [
    "weather_data.to_csv(\"weather_data.csv\")"
   ]
  }
 ],
 "metadata": {
  "celltoolbar": "Raw Cell Format",
  "kernelspec": {
   "display_name": "Python 3 (ipykernel)",
   "language": "python",
   "name": "python3"
  },
  "language_info": {
   "codemirror_mode": {
    "name": "ipython",
    "version": 3
   },
   "file_extension": ".py",
   "mimetype": "text/x-python",
   "name": "python",
   "nbconvert_exporter": "python",
   "pygments_lexer": "ipython3",
   "version": "3.9.7"
  }
 },
 "nbformat": 4,
 "nbformat_minor": 5
}
