{
 "cells": [
  {
   "cell_type": "code",
   "execution_count": 2,
   "id": "df9d8c49-124a-42dc-9721-ad5c146771a5",
   "metadata": {},
   "outputs": [],
   "source": [
    "import pandas as pd\n",
    "from datetime import datetime, date, timedelta\n",
    "import requests\n",
    "from pytz import timezone"
   ]
  },
  {
   "cell_type": "code",
   "execution_count": 8,
   "id": "787dd04f-b991-4f5e-8d92-f1a943eb6b85",
   "metadata": {},
   "outputs": [],
   "source": [
    "# connection to gans database in cloud (AWS)\n",
    "\n",
    "schema = 'gans'\n",
    "host = 'wbs-project4-db.cdf7pal02v3u.eu-central-1.rds.amazonaws.com'\n",
    "user = 'admin'\n",
    "password = 'Your RDS Instance password'\n",
    "port = 3306\n",
    "con = f\"mysql+pymysql://{user}:{password}@{host}:{port}/{schema}\""
   ]
  },
  {
   "cell_type": "code",
   "execution_count": null,
   "id": "27b3f7da-181d-4fb7-99ec-2d2e959a4d89",
   "metadata": {},
   "outputs": [],
   "source": [
    "# city_data is extracted from sql db as it's static data, also enables merge to get city id\n",
    "# comment out unless testing function\n",
    "\n",
    "'''airport_data = pd.read_sql_table(\n",
    "    'airports', con=con, index_col=None, coerce_float=True, parse_dates=None, columns=None, chunksize=None)\n",
    "icao = airport_data['icao'].to_list()'''"
   ]
  },
  {
   "cell_type": "code",
   "execution_count": 5,
   "id": "9069a6a2-38ad-4181-aabe-a7c8e216a10c",
   "metadata": {},
   "outputs": [],
   "source": [
    "icao = airport_data['icao'].to_list()\n",
    "#icao"
   ]
  },
  {
   "cell_type": "markdown",
   "id": "0609c871-5268-451d-81fb-80ea2fae9802",
   "metadata": {},
   "source": [
    "## API Data Structue\n",
    "\n",
    "this is the structure of the data returned by the API when formatted\n",
    "\n",
    "{\"arrivals\":[\n",
    "\t{\"departure\":{\n",
    "\t\t\"airport\":{\n",
    "\t\t\t\"icao\":\"LGMK\",\"iata\":\"JMK\",\"name\":\"Mykonos Island\"\n",
    "\t\t\t},\n",
    "\t\t\"quality\":[]\n",
    "\t\t\t},\n",
    "\t\t\"arrival\":{\n",
    "\t\t\t\"scheduledTimeLocal\":\"2022-07-08 20:05+02:00\",\n",
    "            \"actualTimeLocal\":\"2022-07-08 20:05+02:00\",\n",
    "            \"scheduledTimeUtc\":\"2022-07-08 18:05Z\",\n",
    "            \"actualTimeUtc\":\"2022-07-08 18:05Z\",\n",
    "            \"terminal\":\"1\",\n",
    "            \"quality\":[\"Basic\",\"Live\"]\n",
    "\t\t\t},\n",
    "\t\"number\":\"A3 1543\",\n",
    "\t\"status\":\"Expected\",\n",
    "\t\"codeshareStatus\":\"IsCodeshared\",\n",
    "\t\"isCargo\":false,\n",
    "\t\"aircraft\":{\n",
    "           \"reg\":\"D-AIJC\",\n",
    "           \"modeS\":\"3C6543\",\n",
    "           \"model\":\"Airbus A320 NEO\"\n",
    "           },\n",
    "\t\"airline\":{\"name\":\"Aegean\"}\n",
    "\t},\n",
    "\t{\"departure\":{\"airport\":{\"icao\": ...... and so on"
   ]
  },
  {
   "cell_type": "code",
   "execution_count": 24,
   "id": "4645f779-2422-4bae-9d86-716f7f869b8b",
   "metadata": {},
   "outputs": [],
   "source": [
    "# function is required to enable auto updating in the cloud once linked to sql\n",
    "# this function can now be copied to the Lambda_handler function in AWS\n",
    "\n",
    "def tomorrows_flight_arrivals(icao_list):\n",
    "    \n",
    "    # city_data is extracted from sql db as it's static data, also enables merge to get city id\n",
    "    airport_data = pd.read_sql_table(\n",
    "        'airports', con=con, index_col=None, coerce_float=True, parse_dates=None, columns=None, chunksize=None)\n",
    "    icao = airport_data['icao'].to_list()\n",
    "    \n",
    "    # these are the times to retrieve data for next day\n",
    "today = datetime.now().astimezone(timezone('Europe/Berlin')).date() # these are the times to retrieve data for next day\n",
    "    tomorrow = (today + timedelta(days=1))\n",
    "    \n",
    "    list_for_df =[]\n",
    "    \n",
    "    for icao in icao_list:\n",
    "        times = [['00:00','11:59'],['12:00','23:59']] # data can be called from API for max of 12hrs so x2 periods defined per day\n",
    "        \n",
    "        for t in times:\n",
    "            url = f\"https://aerodatabox.p.rapidapi.com/flights/airports/icao/{icao}/{tomorrow}T{t[0]}/{tomorrow}T{t[1]}\"\n",
    "            querystring = {\"withLeg\":\"true\",\"direction\":\"Arrival\",\"withCancelled\":\"false\",\"withCargo\":\"false\",\"withPrivate\":\"false\"}\n",
    "            headers = {\n",
    "                \"X-RapidAPI-Key\": \"Use Your API key here\",\n",
    "                \"X-RapidAPI-Host\": \"aerodatabox.p.rapidapi.com\"\n",
    "            }\n",
    "        r = requests.request('GET', url, headers=headers, params=querystring)\n",
    "        flights_json = r.json()\n",
    "        \n",
    "        for flight in flights_json['arrivals']:    # arrivals is the 1st item returned by API - this dict contains all other dicts/lists\n",
    "            flights_dict = {}                     # blank dict created to hold extracted values created below\n",
    "            flights_dict['arrival_icao'] = icao   # this is the icao value returned from the API list ref'd through the for loop \n",
    "            # .get() is another way of ensuring our code doesn't break\n",
    "            # in the previous 2 notebooks you learnt about 'if' (cities) and 'try/except' (weather)\n",
    "            # .get() works similar, it will get the text if possible, if there is no text a None value will be inserted instead\n",
    "            flights_dict['arrival_time_local'] = flight['arrival'].get('scheduledTimeLocal', None)   # various cols formed from the dict & list refs under 'arrivals'\n",
    "            flights_dict['arrival_terminal'] = flight['arrival'].get('terminal', None)\n",
    "            flights_dict['status'] = flight.get('status', None)\n",
    "            flights_dict['departure_city'] = flight['departure']['airport'].get('name', None)\n",
    "            flights_dict['departure_icao'] = flight['departure']['airport'].get('icao', None)\n",
    "            flights_dict['airline'] = flight['airline'].get('name', None)\n",
    "            flights_dict['flight_number'] = flight.get('number', None)    # here number is directly under arrivals \n",
    "            flights_dict['data_retrieved_on'] = datetime.now().astimezone(timezone('Europe/Berlin')).date()\n",
    "            list_for_df.append(flights_dict) # the list_for_df is appended with values created, this enables pandas to convert easily to a dataframe\n",
    "            \n",
    "        arrivals_data = pd.DataFrame(list_for_df) # converting list to dataframe\n",
    "        arrivals_data[\"arrival_time_local\"] = pd.to_datetime(arrivals_data[\"arrival_time_local\"])\n",
    "            \n",
    "    return arrivals_data # drop return when using in lambda function AWS\n",
    "        "
   ]
  },
  {
   "cell_type": "code",
   "execution_count": 51,
   "id": "94c638d7-265e-49ba-b0bd-2775018e11b6",
   "metadata": {},
   "outputs": [],
   "source": [
    "# test function using the earlier defined icao list from the imported airport_data\n",
    "\n",
    "tomorrows_flight_arrivals(icao).head()"
   ]
  },
  {
   "cell_type": "code",
   "execution_count": 57,
   "id": "668d46dc-d393-43ad-94bc-fe714b5b1947",
   "metadata": {},
   "outputs": [
    {
     "data": {
      "text/plain": [
       "arrival_icao                                         object\n",
       "arrival_time_local    datetime64[ns, pytz.FixedOffset(120)]\n",
       "arrival_terminal                                     object\n",
       "departure_city                                       object\n",
       "departure_icao                                       object\n",
       "airline                                              object\n",
       "flight_number                                        object\n",
       "data_retrieved_on                                    object\n",
       "dtype: object"
      ]
     },
     "execution_count": 57,
     "metadata": {},
     "output_type": "execute_result"
    }
   ],
   "source": [
    "arrivals_data.dtypes"
   ]
  }
 ],
 "metadata": {
  "kernelspec": {
   "display_name": "Python 3 (ipykernel)",
   "language": "python",
   "name": "python3"
  },
  "language_info": {
   "codemirror_mode": {
    "name": "ipython",
    "version": 3
   },
   "file_extension": ".py",
   "mimetype": "text/x-python",
   "name": "python",
   "nbconvert_exporter": "python",
   "pygments_lexer": "ipython3",
   "version": "3.9.7"
  }
 },
 "nbformat": 4,
 "nbformat_minor": 5
}
