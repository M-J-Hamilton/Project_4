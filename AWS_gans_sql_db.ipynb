{
 "cells": [
  {
   "cell_type": "code",
   "execution_count": 1,
   "id": "90fe938a-883a-40b5-add4-0e3efa539778",
   "metadata": {},
   "outputs": [],
   "source": [
    "import pandas as pd\n",
    "import pymysql\n",
    "import sqlalchemy"
   ]
  },
  {
   "cell_type": "markdown",
   "id": "c9bed301-4967-44db-8a54-e00de4354b12",
   "metadata": {},
   "source": [
    "Here we are only importing the static data to the cloud MySQL database"
   ]
  },
  {
   "cell_type": "code",
   "execution_count": 2,
   "id": "d4a21de3-a357-47de-bff8-9aeac6454e32",
   "metadata": {},
   "outputs": [],
   "source": [
    "# import .csv data for the required Tables & remove Unnamed index\n",
    "\n",
    "city_data = pd.read_csv(\"city_data.csv\")\n",
    "city_data.drop(columns = [\"Unnamed: 0\"], inplace = True)\n",
    "city_data.rename(columns={'city':'city_name'}, inplace = True)\n",
    "airport_data = pd.read_csv(\"airport_data.csv\")\n",
    "airport_data.drop(columns = [\"Unnamed: 0\"], inplace = True)"
   ]
  },
  {
   "cell_type": "code",
   "execution_count": 3,
   "id": "31129911-b4fb-462b-badd-093ff7c43d17",
   "metadata": {},
   "outputs": [],
   "source": [
    "airport_data"
   ]
  },
  {
   "cell_type": "code",
   "execution_count": 15,
   "id": "2687d258-2ced-42b2-a9e3-e234cb5a1903",
   "metadata": {},
   "outputs": [],
   "source": [
    "city_data.head()"
   ]
  },
  {
   "cell_type": "code",
   "execution_count": 4,
   "id": "669148aa-be09-4085-9a74-75b6b15bfe7b",
   "metadata": {},
   "outputs": [],
   "source": [
    "# complete the infor for the sql schema which is connected to the cloud\n",
    "\n",
    "schema = 'gans'\n",
    "host = 'wbs-project4-db.cdf7pal02v3u.eu-central-1.rds.amazonaws.com' \n",
    "user = 'admin'\n",
    "password = 'Your RDS Instance code'\n",
    "port = 3306\n",
    "con = f\"mysql+pymysql://{user}:{password}@{host}:{port}/{schema}\""
   ]
  },
  {
   "cell_type": "markdown",
   "id": "62fe2a92-5e33-4295-b154-546003bb0317",
   "metadata": {},
   "source": [
    "write the codes to append the sql tables with the required information from each dataframe"
   ]
  },
  {
   "cell_type": "code",
   "execution_count": 5,
   "id": "5f763676-9fac-4940-8e39-d8ba5e463499",
   "metadata": {},
   "outputs": [],
   "source": [
    "city_data.to_sql(\"cities\", if_exists = \"append\", con = con, index = False)"
   ]
  },
  {
   "cell_type": "code",
   "execution_count": 6,
   "id": "10ca65b2-610d-40ff-9bb4-a072344b6281",
   "metadata": {},
   "outputs": [],
   "source": [
    "airport_data.to_sql(\"airports\", if_exists = \"append\", con = con, index = False)"
   ]
  }
 ],
 "metadata": {
  "kernelspec": {
   "display_name": "Python 3 (ipykernel)",
   "language": "python",
   "name": "python3"
  },
  "language_info": {
   "codemirror_mode": {
    "name": "ipython",
    "version": 3
   },
   "file_extension": ".py",
   "mimetype": "text/x-python",
   "name": "python",
   "nbconvert_exporter": "python",
   "pygments_lexer": "ipython3",
   "version": "3.9.7"
  }
 },
 "nbformat": 4,
 "nbformat_minor": 5
}
