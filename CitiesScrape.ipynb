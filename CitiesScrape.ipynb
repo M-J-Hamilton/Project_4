{
 "cells": [
  {
   "cell_type": "code",
   "execution_count": 2,
   "metadata": {
    "id": "YcBlD20n5E0x"
   },
   "outputs": [],
   "source": [
    "# 1. import libraries\n",
    "from bs4 import BeautifulSoup\n",
    "import requests\n",
    "import pandas as pd\n",
    "import numpy as np\n",
    "import re"
   ]
  },
  {
   "cell_type": "code",
   "execution_count": 3,
   "metadata": {
    "id": "2Gb6Gqj93fWc"
   },
   "outputs": [],
   "source": [
    "# 2. find url and store it in a variable\n",
    "url = \"https://en.wikipedia.org/wiki/List_of_European_cities_by_population_within_city_limits\"       \n",
    "\n"
   ]
  },
  {
   "cell_type": "code",
   "execution_count": 4,
   "metadata": {
    "colab": {
     "base_uri": "https://localhost:8080/"
    },
    "id": "JciTlKjX5DzI",
    "outputId": "c35c2d16-d7a9-417b-dd06-7845394f1967"
   },
   "outputs": [
    {
     "data": {
      "text/plain": [
       "200"
      ]
     },
     "execution_count": 4,
     "metadata": {},
     "output_type": "execute_result"
    }
   ],
   "source": [
    "# 3. download html with a get request\n",
    "response = requests.get(url)\n",
    "response.status_code # 200 status code means OK!"
   ]
  },
  {
   "cell_type": "code",
   "execution_count": 5,
   "metadata": {
    "id": "eyNQcjBZBUBt"
   },
   "outputs": [],
   "source": [
    "# 4.1. parse html (create the 'soup')\n",
    "soup = BeautifulSoup(response.content, \"html.parser\")\n",
    "# 4.2. check that the html code looks like it should\n",
    "#soup.prettify"
   ]
  },
  {
   "cell_type": "code",
   "execution_count": 6,
   "metadata": {
    "id": "aoQ8Y89WRiKQ"
   },
   "outputs": [],
   "source": [
    "# Select the data required\n",
    "\n",
    "# Useful link with examples about CSS Selectors with soup: \n",
    "#     https://www.crummy.com/software/BeautifulSoup/bs4/doc/#css-selectors\n",
    "\n",
    "\n",
    "cities = [s.get_text() for s in soup.select('.wikitable tbody tr td:nth-of-type(2)')]\n",
    "countries = [s.get_text() for s in soup.select('.wikitable tbody tr td:nth-of-type(3)')]\n",
    "population = [s.get_text() for s in soup.select('.wikitable tbody tr td:nth-of-type(4)')]\n",
    "coords = [s.get_text() for s in soup.select('.wikitable tbody tr td:nth-of-type(8)')]"
   ]
  },
  {
   "cell_type": "code",
   "execution_count": 7,
   "metadata": {
    "colab": {
     "base_uri": "https://localhost:8080/",
     "height": 81
    },
    "id": "qmskHR3uR-MN",
    "outputId": "91fbffec-0201-40f2-c8ea-8409d7f322bf"
   },
   "outputs": [
    {
     "name": "stdout",
     "output_type": "stream",
     "text": [
      "<class 'pandas.core.frame.DataFrame'>\n",
      "RangeIndex: 32 entries, 0 to 31\n",
      "Data columns (total 4 columns):\n",
      " #   Column      Non-Null Count  Dtype \n",
      "---  ------      --------------  ----- \n",
      " 0   city        32 non-null     object\n",
      " 1   country     32 non-null     object\n",
      " 2   population  32 non-null     object\n",
      " 3   coords      32 non-null     object\n",
      "dtypes: object(4)\n",
      "memory usage: 1.1+ KB\n"
     ]
    },
    {
     "name": "stderr",
     "output_type": "stream",
     "text": [
      "C:\\Users\\All\\AppData\\Local\\Temp\\ipykernel_12944\\1898521999.py:9: DeprecationWarning: Importing display from IPython.core.display is deprecated since IPython 7.14, please import from IPython display\n",
      "  from IPython.core.display import display, HTML\n"
     ]
    },
    {
     "data": {
      "text/html": [
       "<div>\n",
       "<style scoped>\n",
       "    .dataframe tbody tr th:only-of-type {\n",
       "        vertical-align: middle;\n",
       "    }\n",
       "\n",
       "    .dataframe tbody tr th {\n",
       "        vertical-align: top;\n",
       "    }\n",
       "\n",
       "    .dataframe thead th {\n",
       "        text-align: right;\n",
       "    }\n",
       "</style>\n",
       "<table border=\"1\" class=\"dataframe\">\n",
       "  <thead>\n",
       "    <tr style=\"text-align: right;\">\n",
       "      <th></th>\n",
       "      <th>city</th>\n",
       "      <th>country</th>\n",
       "      <th>population</th>\n",
       "      <th>coords</th>\n",
       "    </tr>\n",
       "  </thead>\n",
       "  <tbody>\n",
       "    <tr>\n",
       "      <th>0</th>\n",
       "      <td>Istanbul</td>\n",
       "      <td>Turkey\\n</td>\n",
       "      <td>15,840,900[a]\\n</td>\n",
       "      <td>41°00′49″N 28°57′18″E﻿ / ﻿41.013611°N 28.955°E...</td>\n",
       "    </tr>\n",
       "    <tr>\n",
       "      <th>1</th>\n",
       "      <td>Moscow[b]</td>\n",
       "      <td>Russia\\n</td>\n",
       "      <td>12,632,409\\n</td>\n",
       "      <td>55°45′00″N 37°37′00″E﻿ / ﻿55.75°N 37.616667°E﻿...</td>\n",
       "    </tr>\n",
       "    <tr>\n",
       "      <th>2</th>\n",
       "      <td>London</td>\n",
       "      <td>United Kingdom\\n</td>\n",
       "      <td>9,002,488\\n</td>\n",
       "      <td>51°30′26″N 0°07′39″W﻿ / ﻿51.507222°N 0.1275°W﻿...</td>\n",
       "    </tr>\n",
       "    <tr>\n",
       "      <th>3</th>\n",
       "      <td>Saint Petersburg</td>\n",
       "      <td>Russia\\n</td>\n",
       "      <td>5,376,672\\n</td>\n",
       "      <td>59°57′N 30°18′E﻿ / ﻿59.95°N 30.3°E﻿ / 59.95; 3...</td>\n",
       "    </tr>\n",
       "    <tr>\n",
       "      <th>4</th>\n",
       "      <td>Berlin</td>\n",
       "      <td>Germany\\n</td>\n",
       "      <td>3,664,088\\n</td>\n",
       "      <td>52°31′00″N 13°23′00″E﻿ / ﻿52.516667°N 13.38333...</td>\n",
       "    </tr>\n",
       "  </tbody>\n",
       "</table>\n",
       "</div>"
      ],
      "text/plain": [
       "               city            country       population  \\\n",
       "0          Istanbul           Turkey\\n  15,840,900[a]\\n   \n",
       "1         Moscow[b]           Russia\\n     12,632,409\\n   \n",
       "2            London   United Kingdom\\n      9,002,488\\n   \n",
       "3  Saint Petersburg           Russia\\n      5,376,672\\n   \n",
       "4            Berlin          Germany\\n      3,664,088\\n   \n",
       "\n",
       "                                              coords  \n",
       "0  41°00′49″N 28°57′18″E﻿ / ﻿41.013611°N 28.955°E...  \n",
       "1  55°45′00″N 37°37′00″E﻿ / ﻿55.75°N 37.616667°E﻿...  \n",
       "2  51°30′26″N 0°07′39″W﻿ / ﻿51.507222°N 0.1275°W﻿...  \n",
       "3  59°57′N 30°18′E﻿ / ﻿59.95°N 30.3°E﻿ / 59.95; 3...  \n",
       "4  52°31′00″N 13°23′00″E﻿ / ﻿52.516667°N 13.38333...  "
      ]
     },
     "execution_count": 7,
     "metadata": {},
     "output_type": "execute_result"
    }
   ],
   "source": [
    "# create data frame\n",
    "\n",
    "# calling DataFrame constructor after zipping\n",
    "# both lists, with columns specified\n",
    "\n",
    "df=pd.DataFrame(\n",
    "    list(zip(cities, countries, population, coords)), columns =['city', 'country', 'population', 'coords']\n",
    ")\n",
    "from IPython.core.display import display, HTML\n",
    "\n",
    "df.info()\n",
    "df.head(5)"
   ]
  },
  {
   "cell_type": "code",
   "execution_count": 28,
   "metadata": {
    "id": "UfFgd7YwSarP"
   },
   "outputs": [],
   "source": [
    "df['city'] = df['city'].str.replace(\"[\\(\\[].*?[\\)\\]]\", \"\", regex=True)\n",
    "df['country'] = df['country'].str.replace(\"\\n\", \"\", regex=True)\n",
    "df['population'] = df['population'].str.replace(\"\\n\", \"\", regex=True)\n",
    "df[['kk','ll','ltt']] = df['coords'].str.split('/',expand=True) \n",
    "df['kk'] = df['kk'].str.replace(\"°\", \".\", regex=True)\n",
    "df['kk'] = df['kk'].str.replace(\"′\", \"\", regex=True)\n",
    "#df.drop(['ll','ltt','latitude'], axis = 1, inplace=True)\n",
    "df[['latitude','longitude']] = df['kk'].str.split('″N',expand=True) "
   ]
  },
  {
   "cell_type": "code",
   "execution_count": 220,
   "metadata": {},
   "outputs": [],
   "source": []
  },
  {
   "cell_type": "code",
   "execution_count": null,
   "metadata": {},
   "outputs": [],
   "source": []
  },
  {
   "cell_type": "code",
   "execution_count": 29,
   "metadata": {},
   "outputs": [
    {
     "data": {
      "text/html": [
       "<div>\n",
       "<style scoped>\n",
       "    .dataframe tbody tr th:only-of-type {\n",
       "        vertical-align: middle;\n",
       "    }\n",
       "\n",
       "    .dataframe tbody tr th {\n",
       "        vertical-align: top;\n",
       "    }\n",
       "\n",
       "    .dataframe thead th {\n",
       "        text-align: right;\n",
       "    }\n",
       "</style>\n",
       "<table border=\"1\" class=\"dataframe\">\n",
       "  <thead>\n",
       "    <tr style=\"text-align: right;\">\n",
       "      <th></th>\n",
       "      <th>city</th>\n",
       "      <th>country</th>\n",
       "      <th>population</th>\n",
       "      <th>coords</th>\n",
       "      <th>kk</th>\n",
       "      <th>longitude</th>\n",
       "      <th>latitude</th>\n",
       "      <th>ll</th>\n",
       "      <th>ltt</th>\n",
       "    </tr>\n",
       "  </thead>\n",
       "  <tbody>\n",
       "    <tr>\n",
       "      <th>0</th>\n",
       "      <td>Istanbul</td>\n",
       "      <td>Turkey</td>\n",
       "      <td>15,840,900[a]</td>\n",
       "      <td>41°00′49″N 28°57′18″E﻿ / ﻿41.013611°N 28.955°E...</td>\n",
       "      <td>41.0049″N 28.5718″E﻿</td>\n",
       "      <td>28.5718″E﻿</td>\n",
       "      <td>41.0049</td>\n",
       "      <td>﻿41.013611°N 28.955°E﻿</td>\n",
       "      <td>41.013611; 28.955﻿ (1 Istanbul)\\n</td>\n",
       "    </tr>\n",
       "    <tr>\n",
       "      <th>7</th>\n",
       "      <td>Rome</td>\n",
       "      <td>Italy</td>\n",
       "      <td>2,844,750</td>\n",
       "      <td>41°54′N 12°30′E﻿ / ﻿41.9°N 12.5°E﻿ / 41.9; 12....</td>\n",
       "      <td>41.54N 12.30E﻿</td>\n",
       "      <td>None</td>\n",
       "      <td>41.54N 12.30E﻿</td>\n",
       "      <td>﻿41.9°N 12.5°E﻿</td>\n",
       "      <td>41.9; 12.5﻿ (8 Rome)\\n</td>\n",
       "    </tr>\n",
       "    <tr>\n",
       "      <th>3</th>\n",
       "      <td>Saint Petersburg</td>\n",
       "      <td>Russia</td>\n",
       "      <td>5,376,672</td>\n",
       "      <td>59°57′N 30°18′E﻿ / ﻿59.95°N 30.3°E﻿ / 59.95; 3...</td>\n",
       "      <td>59.57N 30.18E﻿</td>\n",
       "      <td>None</td>\n",
       "      <td>59.57N 30.18E﻿</td>\n",
       "      <td>﻿59.95°N 30.3°E﻿</td>\n",
       "      <td>59.95; 30.3﻿ (4 Saint Petersburg)\\n</td>\n",
       "    </tr>\n",
       "    <tr>\n",
       "      <th>8</th>\n",
       "      <td>Bucharest</td>\n",
       "      <td>Romania</td>\n",
       "      <td>2,161,347</td>\n",
       "      <td>44°25′57″N 26°06′14″E﻿ / ﻿44.4325°N 26.103889°...</td>\n",
       "      <td>44.2557″N 26.0614″E﻿</td>\n",
       "      <td>26.0614″E﻿</td>\n",
       "      <td>44.2557</td>\n",
       "      <td>﻿44.4325°N 26.103889°E﻿</td>\n",
       "      <td>44.4325; 26.103889﻿ (10 Bucharest)\\n</td>\n",
       "    </tr>\n",
       "    <tr>\n",
       "      <th>18</th>\n",
       "      <td>Kharkiv</td>\n",
       "      <td>Ukraine</td>\n",
       "      <td>1,414,319</td>\n",
       "      <td>50°00′16″N 36°13′53″E﻿ / ﻿50.004444°N 36.23138...</td>\n",
       "      <td>50.0016″N 36.1353″E﻿</td>\n",
       "      <td>36.1353″E﻿</td>\n",
       "      <td>50.0016</td>\n",
       "      <td>﻿50.004444°N 36.231389°E﻿</td>\n",
       "      <td>50.004444; 36.231389﻿ (19 Kharkiv)\\n</td>\n",
       "    </tr>\n",
       "    <tr>\n",
       "      <th>25</th>\n",
       "      <td>Birmingham</td>\n",
       "      <td>United Kingdom</td>\n",
       "      <td>1,140,525</td>\n",
       "      <td>52°28′59″N 1°53′37″W﻿ / ﻿52.483056°N 1.893611°...</td>\n",
       "      <td>52.2859″N 1.5337″W﻿</td>\n",
       "      <td>1.5337″W﻿</td>\n",
       "      <td>52.2859</td>\n",
       "      <td>﻿52.483056°N 1.893611°W﻿</td>\n",
       "      <td>52.483056; -1.893611﻿ (26 Birmingham)\\n</td>\n",
       "    </tr>\n",
       "    <tr>\n",
       "      <th>27</th>\n",
       "      <td>Ufa</td>\n",
       "      <td>Russia</td>\n",
       "      <td>1,125,933</td>\n",
       "      <td>54°45′00″N 55°58′00″E﻿ / ﻿54.75°N 55.966667°E﻿...</td>\n",
       "      <td>54.4500″N 55.5800″E﻿</td>\n",
       "      <td>55.5800″E﻿</td>\n",
       "      <td>54.4500</td>\n",
       "      <td>﻿54.75°N 55.966667°E﻿</td>\n",
       "      <td>54.75; 55.966667﻿ (28 Ufa)\\n</td>\n",
       "    </tr>\n",
       "    <tr>\n",
       "      <th>24</th>\n",
       "      <td>Samara</td>\n",
       "      <td>Russia</td>\n",
       "      <td>1,144,759</td>\n",
       "      <td>53°12′10″N 50°08′27″E﻿ / ﻿53.202778°N 50.14083...</td>\n",
       "      <td>53.1210″N 50.0827″E﻿</td>\n",
       "      <td>50.0827″E﻿</td>\n",
       "      <td>53.1210</td>\n",
       "      <td>﻿53.202778°N 50.140833°E﻿</td>\n",
       "      <td>53.202778; 50.140833﻿ (25 Samara)\\n</td>\n",
       "    </tr>\n",
       "    <tr>\n",
       "      <th>11</th>\n",
       "      <td>Vienna</td>\n",
       "      <td>Austria</td>\n",
       "      <td>1,931,830</td>\n",
       "      <td>48°12′00″N 16°22′00″E﻿ / ﻿48.2°N 16.366667°E﻿ ...</td>\n",
       "      <td>48.1200″N 16.2200″E﻿</td>\n",
       "      <td>16.2200″E﻿</td>\n",
       "      <td>48.1200</td>\n",
       "      <td>﻿48.2°N 16.366667°E﻿</td>\n",
       "      <td>48.2; 16.366667﻿ (12 Vienna)\\n</td>\n",
       "    </tr>\n",
       "    <tr>\n",
       "      <th>30</th>\n",
       "      <td>Perm</td>\n",
       "      <td>Russia</td>\n",
       "      <td>1,049,199</td>\n",
       "      <td>58°00′00″N 56°19′00″E﻿ / ﻿58°N 56.316667°E﻿ / ...</td>\n",
       "      <td>58.0000″N 56.1900″E﻿</td>\n",
       "      <td>56.1900″E﻿</td>\n",
       "      <td>58.0000</td>\n",
       "      <td>﻿58°N 56.316667°E﻿</td>\n",
       "      <td>58; 56.316667﻿ (31 Perm)\\n</td>\n",
       "    </tr>\n",
       "  </tbody>\n",
       "</table>\n",
       "</div>"
      ],
      "text/plain": [
       "                city          country     population  \\\n",
       "0           Istanbul           Turkey  15,840,900[a]   \n",
       "7               Rome            Italy      2,844,750   \n",
       "3   Saint Petersburg           Russia      5,376,672   \n",
       "8          Bucharest          Romania      2,161,347   \n",
       "18           Kharkiv          Ukraine      1,414,319   \n",
       "25        Birmingham   United Kingdom      1,140,525   \n",
       "27               Ufa           Russia      1,125,933   \n",
       "24            Samara           Russia      1,144,759   \n",
       "11            Vienna          Austria      1,931,830   \n",
       "30              Perm           Russia      1,049,199   \n",
       "\n",
       "                                               coords                     kk  \\\n",
       "0   41°00′49″N 28°57′18″E﻿ / ﻿41.013611°N 28.955°E...  41.0049″N 28.5718″E﻿    \n",
       "7   41°54′N 12°30′E﻿ / ﻿41.9°N 12.5°E﻿ / 41.9; 12....        41.54N 12.30E﻿    \n",
       "3   59°57′N 30°18′E﻿ / ﻿59.95°N 30.3°E﻿ / 59.95; 3...        59.57N 30.18E﻿    \n",
       "8   44°25′57″N 26°06′14″E﻿ / ﻿44.4325°N 26.103889°...  44.2557″N 26.0614″E﻿    \n",
       "18  50°00′16″N 36°13′53″E﻿ / ﻿50.004444°N 36.23138...  50.0016″N 36.1353″E﻿    \n",
       "25  52°28′59″N 1°53′37″W﻿ / ﻿52.483056°N 1.893611°...   52.2859″N 1.5337″W﻿    \n",
       "27  54°45′00″N 55°58′00″E﻿ / ﻿54.75°N 55.966667°E﻿...  54.4500″N 55.5800″E﻿    \n",
       "24  53°12′10″N 50°08′27″E﻿ / ﻿53.202778°N 50.14083...  53.1210″N 50.0827″E﻿    \n",
       "11  48°12′00″N 16°22′00″E﻿ / ﻿48.2°N 16.366667°E﻿ ...  48.1200″N 16.2200″E﻿    \n",
       "30  58°00′00″N 56°19′00″E﻿ / ﻿58°N 56.316667°E﻿ / ...  58.0000″N 56.1900″E﻿    \n",
       "\n",
       "       longitude         latitude                           ll  \\\n",
       "0    28.5718″E﻿           41.0049      ﻿41.013611°N 28.955°E﻿    \n",
       "7           None  41.54N 12.30E﻿              ﻿41.9°N 12.5°E﻿    \n",
       "3           None  59.57N 30.18E﻿             ﻿59.95°N 30.3°E﻿    \n",
       "8    26.0614″E﻿           44.2557     ﻿44.4325°N 26.103889°E﻿    \n",
       "18   36.1353″E﻿           50.0016   ﻿50.004444°N 36.231389°E﻿    \n",
       "25    1.5337″W﻿           52.2859    ﻿52.483056°N 1.893611°W﻿    \n",
       "27   55.5800″E﻿           54.4500       ﻿54.75°N 55.966667°E﻿    \n",
       "24   50.0827″E﻿           53.1210   ﻿53.202778°N 50.140833°E﻿    \n",
       "11   16.2200″E﻿           48.1200        ﻿48.2°N 16.366667°E﻿    \n",
       "30   56.1900″E﻿           58.0000          ﻿58°N 56.316667°E﻿    \n",
       "\n",
       "                                         ltt  \n",
       "0          41.013611; 28.955﻿ (1 Istanbul)\\n  \n",
       "7                     41.9; 12.5﻿ (8 Rome)\\n  \n",
       "3        59.95; 30.3﻿ (4 Saint Petersburg)\\n  \n",
       "8       44.4325; 26.103889﻿ (10 Bucharest)\\n  \n",
       "18      50.004444; 36.231389﻿ (19 Kharkiv)\\n  \n",
       "25   52.483056; -1.893611﻿ (26 Birmingham)\\n  \n",
       "27              54.75; 55.966667﻿ (28 Ufa)\\n  \n",
       "24       53.202778; 50.140833﻿ (25 Samara)\\n  \n",
       "11            48.2; 16.366667﻿ (12 Vienna)\\n  \n",
       "30                58; 56.316667﻿ (31 Perm)\\n  "
      ]
     },
     "execution_count": 29,
     "metadata": {},
     "output_type": "execute_result"
    }
   ],
   "source": [
    "df.sample(10)"
   ]
  },
  {
   "cell_type": "code",
   "execution_count": null,
   "metadata": {},
   "outputs": [],
   "source": []
  }
 ],
 "metadata": {
  "colab": {
   "collapsed_sections": [],
   "name": "Cities.ipynb",
   "provenance": []
  },
  "kernelspec": {
   "display_name": "Python 3 (ipykernel)",
   "language": "python",
   "name": "python3"
  },
  "language_info": {
   "codemirror_mode": {
    "name": "ipython",
    "version": 3
   },
   "file_extension": ".py",
   "mimetype": "text/x-python",
   "name": "python",
   "nbconvert_exporter": "python",
   "pygments_lexer": "ipython3",
   "version": "3.9.7"
  }
 },
 "nbformat": 4,
 "nbformat_minor": 4
}
